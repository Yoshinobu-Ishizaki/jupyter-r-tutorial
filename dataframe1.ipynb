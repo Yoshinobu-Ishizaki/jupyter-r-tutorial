{
 "cells": [
  {
   "cell_type": "markdown",
   "metadata": {},
   "source": [
    "# データフレーム入門"
   ]
  },
  {
   "cell_type": "markdown",
   "metadata": {},
   "source": [
    "Yoshinobu Ishizaki\n",
    "2020/03/20"
   ]
  },
  {
   "cell_type": "markdown",
   "metadata": {},
   "source": [
    "Rではデータフレームというデータ形式でデータを扱うことが多いので、\n",
    "データフレームの扱いに慣れるのが肝心。\n",
    "\n",
    "ここでは、tipsというデータを利用して、データフレームの使い方を学習する。"
   ]
  },
  {
   "cell_type": "code",
   "execution_count": 10,
   "metadata": {},
   "outputs": [],
   "source": [
    "# もし次のlibrary(reshape)がエラーになる時は、パッケージをインストールする。\n",
    "# install.packages(\"reshape\")"
   ]
  },
  {
   "cell_type": "code",
   "execution_count": 3,
   "metadata": {},
   "outputs": [],
   "source": [
    "# tips data is in \"reshape\"\n",
    "library(reshape)"
   ]
  },
  {
   "cell_type": "code",
   "execution_count": 5,
   "metadata": {},
   "outputs": [
    {
     "name": "stderr",
     "output_type": "stream",
     "text": [
      "─ \u001b[1mAttaching packages\u001b[22m ──────────────────── tidyverse 1.3.0 ─\n",
      "\n",
      "\u001b[32m✔\u001b[39m \u001b[34mggplot2\u001b[39m 3.3.0     \u001b[32m✔\u001b[39m \u001b[34mpurrr  \u001b[39m 0.3.3\n",
      "\u001b[32m✔\u001b[39m \u001b[34mtibble \u001b[39m 2.1.3     \u001b[32m✔\u001b[39m \u001b[34mdplyr  \u001b[39m 0.8.5\n",
      "\u001b[32m✔\u001b[39m \u001b[34mtidyr  \u001b[39m 1.0.2     \u001b[32m✔\u001b[39m \u001b[34mstringr\u001b[39m 1.4.0\n",
      "\u001b[32m✔\u001b[39m \u001b[34mreadr  \u001b[39m 1.3.1     \u001b[32m✔\u001b[39m \u001b[34mforcats\u001b[39m 0.5.0\n",
      "\n",
      "─ \u001b[1mConflicts\u001b[22m ───────────────────── tidyverse_conflicts() ─\n",
      "\u001b[31m✖\u001b[39m \u001b[34mtidyr\u001b[39m::\u001b[32mexpand()\u001b[39m masks \u001b[34mreshape\u001b[39m::expand()\n",
      "\u001b[31m✖\u001b[39m \u001b[34mdplyr\u001b[39m::\u001b[32mfilter()\u001b[39m masks \u001b[34mstats\u001b[39m::filter()\n",
      "\u001b[31m✖\u001b[39m \u001b[34mdplyr\u001b[39m::\u001b[32mlag()\u001b[39m    masks \u001b[34mstats\u001b[39m::lag()\n",
      "\u001b[31m✖\u001b[39m \u001b[34mdplyr\u001b[39m::\u001b[32mrename()\u001b[39m masks \u001b[34mreshape\u001b[39m::rename()\n",
      "\n"
     ]
    }
   ],
   "source": [
    "library(tidyverse)"
   ]
  },
  {
   "cell_type": "code",
   "execution_count": 6,
   "metadata": {},
   "outputs": [],
   "source": [
    "options(repr.plot.width = 11, repr.plot.height = 11/16*9)"
   ]
  },
  {
   "cell_type": "code",
   "execution_count": 7,
   "metadata": {},
   "outputs": [],
   "source": [
    "theme_set(theme_grey(base_size = 18))"
   ]
  },
  {
   "cell_type": "markdown",
   "metadata": {},
   "source": [
    "## データの概観"
   ]
  },
  {
   "cell_type": "markdown",
   "metadata": {},
   "source": [
    "`head`, `tail`でデータフレームの先頭、末尾部分を確認出来る。"
   ]
  },
  {
   "cell_type": "code",
   "execution_count": 4,
   "metadata": {},
   "outputs": [
    {
     "data": {
      "text/html": [
       "<table>\n",
       "<caption>A data.frame: 6 × 7</caption>\n",
       "<thead>\n",
       "\t<tr><th></th><th scope=col>total_bill</th><th scope=col>tip</th><th scope=col>sex</th><th scope=col>smoker</th><th scope=col>day</th><th scope=col>time</th><th scope=col>size</th></tr>\n",
       "\t<tr><th></th><th scope=col>&lt;dbl&gt;</th><th scope=col>&lt;dbl&gt;</th><th scope=col>&lt;fct&gt;</th><th scope=col>&lt;fct&gt;</th><th scope=col>&lt;fct&gt;</th><th scope=col>&lt;fct&gt;</th><th scope=col>&lt;int&gt;</th></tr>\n",
       "</thead>\n",
       "<tbody>\n",
       "\t<tr><th scope=row>1</th><td>16.99</td><td>1.01</td><td>Female</td><td>No</td><td>Sun</td><td>Dinner</td><td>2</td></tr>\n",
       "\t<tr><th scope=row>2</th><td>10.34</td><td>1.66</td><td>Male  </td><td>No</td><td>Sun</td><td>Dinner</td><td>3</td></tr>\n",
       "\t<tr><th scope=row>3</th><td>21.01</td><td>3.50</td><td>Male  </td><td>No</td><td>Sun</td><td>Dinner</td><td>3</td></tr>\n",
       "\t<tr><th scope=row>4</th><td>23.68</td><td>3.31</td><td>Male  </td><td>No</td><td>Sun</td><td>Dinner</td><td>2</td></tr>\n",
       "\t<tr><th scope=row>5</th><td>24.59</td><td>3.61</td><td>Female</td><td>No</td><td>Sun</td><td>Dinner</td><td>4</td></tr>\n",
       "\t<tr><th scope=row>6</th><td>25.29</td><td>4.71</td><td>Male  </td><td>No</td><td>Sun</td><td>Dinner</td><td>4</td></tr>\n",
       "</tbody>\n",
       "</table>\n"
      ],
      "text/latex": [
       "A data.frame: 6 × 7\n",
       "\\begin{tabular}{r|lllllll}\n",
       "  & total\\_bill & tip & sex & smoker & day & time & size\\\\\n",
       "  & <dbl> & <dbl> & <fct> & <fct> & <fct> & <fct> & <int>\\\\\n",
       "\\hline\n",
       "\t1 & 16.99 & 1.01 & Female & No & Sun & Dinner & 2\\\\\n",
       "\t2 & 10.34 & 1.66 & Male   & No & Sun & Dinner & 3\\\\\n",
       "\t3 & 21.01 & 3.50 & Male   & No & Sun & Dinner & 3\\\\\n",
       "\t4 & 23.68 & 3.31 & Male   & No & Sun & Dinner & 2\\\\\n",
       "\t5 & 24.59 & 3.61 & Female & No & Sun & Dinner & 4\\\\\n",
       "\t6 & 25.29 & 4.71 & Male   & No & Sun & Dinner & 4\\\\\n",
       "\\end{tabular}\n"
      ],
      "text/markdown": [
       "\n",
       "A data.frame: 6 × 7\n",
       "\n",
       "| <!--/--> | total_bill &lt;dbl&gt; | tip &lt;dbl&gt; | sex &lt;fct&gt; | smoker &lt;fct&gt; | day &lt;fct&gt; | time &lt;fct&gt; | size &lt;int&gt; |\n",
       "|---|---|---|---|---|---|---|---|\n",
       "| 1 | 16.99 | 1.01 | Female | No | Sun | Dinner | 2 |\n",
       "| 2 | 10.34 | 1.66 | Male   | No | Sun | Dinner | 3 |\n",
       "| 3 | 21.01 | 3.50 | Male   | No | Sun | Dinner | 3 |\n",
       "| 4 | 23.68 | 3.31 | Male   | No | Sun | Dinner | 2 |\n",
       "| 5 | 24.59 | 3.61 | Female | No | Sun | Dinner | 4 |\n",
       "| 6 | 25.29 | 4.71 | Male   | No | Sun | Dinner | 4 |\n",
       "\n"
      ],
      "text/plain": [
       "  total_bill tip  sex    smoker day time   size\n",
       "1 16.99      1.01 Female No     Sun Dinner 2   \n",
       "2 10.34      1.66 Male   No     Sun Dinner 3   \n",
       "3 21.01      3.50 Male   No     Sun Dinner 3   \n",
       "4 23.68      3.31 Male   No     Sun Dinner 2   \n",
       "5 24.59      3.61 Female No     Sun Dinner 4   \n",
       "6 25.29      4.71 Male   No     Sun Dinner 4   "
      ]
     },
     "metadata": {},
     "output_type": "display_data"
    }
   ],
   "source": [
    "head(tips)"
   ]
  },
  {
   "cell_type": "markdown",
   "metadata": {},
   "source": [
    "行指定してデータを表示する場合、"
   ]
  },
  {
   "cell_type": "code",
   "execution_count": 19,
   "metadata": {},
   "outputs": [
    {
     "data": {
      "text/html": [
       "<table>\n",
       "<caption>A data.frame: 11 × 7</caption>\n",
       "<thead>\n",
       "\t<tr><th></th><th scope=col>total_bill</th><th scope=col>tip</th><th scope=col>sex</th><th scope=col>smoker</th><th scope=col>day</th><th scope=col>time</th><th scope=col>size</th></tr>\n",
       "\t<tr><th></th><th scope=col>&lt;dbl&gt;</th><th scope=col>&lt;dbl&gt;</th><th scope=col>&lt;fct&gt;</th><th scope=col>&lt;fct&gt;</th><th scope=col>&lt;fct&gt;</th><th scope=col>&lt;fct&gt;</th><th scope=col>&lt;int&gt;</th></tr>\n",
       "</thead>\n",
       "<tbody>\n",
       "\t<tr><th scope=row>100</th><td>12.46</td><td>1.50</td><td>Male  </td><td>No </td><td>Fri</td><td>Dinner</td><td>2</td></tr>\n",
       "\t<tr><th scope=row>101</th><td>11.35</td><td>2.50</td><td>Female</td><td>Yes</td><td>Fri</td><td>Dinner</td><td>2</td></tr>\n",
       "\t<tr><th scope=row>102</th><td>15.38</td><td>3.00</td><td>Female</td><td>Yes</td><td>Fri</td><td>Dinner</td><td>2</td></tr>\n",
       "\t<tr><th scope=row>103</th><td>44.30</td><td>2.50</td><td>Female</td><td>Yes</td><td>Sat</td><td>Dinner</td><td>3</td></tr>\n",
       "\t<tr><th scope=row>104</th><td>22.42</td><td>3.48</td><td>Female</td><td>Yes</td><td>Sat</td><td>Dinner</td><td>2</td></tr>\n",
       "\t<tr><th scope=row>105</th><td>20.92</td><td>4.08</td><td>Female</td><td>No </td><td>Sat</td><td>Dinner</td><td>2</td></tr>\n",
       "\t<tr><th scope=row>106</th><td>15.36</td><td>1.64</td><td>Male  </td><td>Yes</td><td>Sat</td><td>Dinner</td><td>2</td></tr>\n",
       "\t<tr><th scope=row>107</th><td>20.49</td><td>4.06</td><td>Male  </td><td>Yes</td><td>Sat</td><td>Dinner</td><td>2</td></tr>\n",
       "\t<tr><th scope=row>108</th><td>25.21</td><td>4.29</td><td>Male  </td><td>Yes</td><td>Sat</td><td>Dinner</td><td>2</td></tr>\n",
       "\t<tr><th scope=row>109</th><td>18.24</td><td>3.76</td><td>Male  </td><td>No </td><td>Sat</td><td>Dinner</td><td>2</td></tr>\n",
       "\t<tr><th scope=row>110</th><td>14.31</td><td>4.00</td><td>Female</td><td>Yes</td><td>Sat</td><td>Dinner</td><td>2</td></tr>\n",
       "</tbody>\n",
       "</table>\n"
      ],
      "text/latex": [
       "A data.frame: 11 × 7\n",
       "\\begin{tabular}{r|lllllll}\n",
       "  & total\\_bill & tip & sex & smoker & day & time & size\\\\\n",
       "  & <dbl> & <dbl> & <fct> & <fct> & <fct> & <fct> & <int>\\\\\n",
       "\\hline\n",
       "\t100 & 12.46 & 1.50 & Male   & No  & Fri & Dinner & 2\\\\\n",
       "\t101 & 11.35 & 2.50 & Female & Yes & Fri & Dinner & 2\\\\\n",
       "\t102 & 15.38 & 3.00 & Female & Yes & Fri & Dinner & 2\\\\\n",
       "\t103 & 44.30 & 2.50 & Female & Yes & Sat & Dinner & 3\\\\\n",
       "\t104 & 22.42 & 3.48 & Female & Yes & Sat & Dinner & 2\\\\\n",
       "\t105 & 20.92 & 4.08 & Female & No  & Sat & Dinner & 2\\\\\n",
       "\t106 & 15.36 & 1.64 & Male   & Yes & Sat & Dinner & 2\\\\\n",
       "\t107 & 20.49 & 4.06 & Male   & Yes & Sat & Dinner & 2\\\\\n",
       "\t108 & 25.21 & 4.29 & Male   & Yes & Sat & Dinner & 2\\\\\n",
       "\t109 & 18.24 & 3.76 & Male   & No  & Sat & Dinner & 2\\\\\n",
       "\t110 & 14.31 & 4.00 & Female & Yes & Sat & Dinner & 2\\\\\n",
       "\\end{tabular}\n"
      ],
      "text/markdown": [
       "\n",
       "A data.frame: 11 × 7\n",
       "\n",
       "| <!--/--> | total_bill &lt;dbl&gt; | tip &lt;dbl&gt; | sex &lt;fct&gt; | smoker &lt;fct&gt; | day &lt;fct&gt; | time &lt;fct&gt; | size &lt;int&gt; |\n",
       "|---|---|---|---|---|---|---|---|\n",
       "| 100 | 12.46 | 1.50 | Male   | No  | Fri | Dinner | 2 |\n",
       "| 101 | 11.35 | 2.50 | Female | Yes | Fri | Dinner | 2 |\n",
       "| 102 | 15.38 | 3.00 | Female | Yes | Fri | Dinner | 2 |\n",
       "| 103 | 44.30 | 2.50 | Female | Yes | Sat | Dinner | 3 |\n",
       "| 104 | 22.42 | 3.48 | Female | Yes | Sat | Dinner | 2 |\n",
       "| 105 | 20.92 | 4.08 | Female | No  | Sat | Dinner | 2 |\n",
       "| 106 | 15.36 | 1.64 | Male   | Yes | Sat | Dinner | 2 |\n",
       "| 107 | 20.49 | 4.06 | Male   | Yes | Sat | Dinner | 2 |\n",
       "| 108 | 25.21 | 4.29 | Male   | Yes | Sat | Dinner | 2 |\n",
       "| 109 | 18.24 | 3.76 | Male   | No  | Sat | Dinner | 2 |\n",
       "| 110 | 14.31 | 4.00 | Female | Yes | Sat | Dinner | 2 |\n",
       "\n"
      ],
      "text/plain": [
       "    total_bill tip  sex    smoker day time   size\n",
       "100 12.46      1.50 Male   No     Fri Dinner 2   \n",
       "101 11.35      2.50 Female Yes    Fri Dinner 2   \n",
       "102 15.38      3.00 Female Yes    Fri Dinner 2   \n",
       "103 44.30      2.50 Female Yes    Sat Dinner 3   \n",
       "104 22.42      3.48 Female Yes    Sat Dinner 2   \n",
       "105 20.92      4.08 Female No     Sat Dinner 2   \n",
       "106 15.36      1.64 Male   Yes    Sat Dinner 2   \n",
       "107 20.49      4.06 Male   Yes    Sat Dinner 2   \n",
       "108 25.21      4.29 Male   Yes    Sat Dinner 2   \n",
       "109 18.24      3.76 Male   No     Sat Dinner 2   \n",
       "110 14.31      4.00 Female Yes    Sat Dinner 2   "
      ]
     },
     "metadata": {},
     "output_type": "display_data"
    }
   ],
   "source": [
    "tips[100:110,]"
   ]
  },
  {
   "cell_type": "markdown",
   "metadata": {},
   "source": [
    "`str`でデータフレームの概要を見ることが出来る。"
   ]
  },
  {
   "cell_type": "code",
   "execution_count": 8,
   "metadata": {},
   "outputs": [
    {
     "name": "stdout",
     "output_type": "stream",
     "text": [
      "'data.frame':\t244 obs. of  7 variables:\n",
      " $ total_bill: num  17 10.3 21 23.7 24.6 ...\n",
      " $ tip       : num  1.01 1.66 3.5 3.31 3.61 4.71 2 3.12 1.96 3.23 ...\n",
      " $ sex       : Factor w/ 2 levels \"Female\",\"Male\": 1 2 2 2 1 2 2 2 2 2 ...\n",
      " $ smoker    : Factor w/ 2 levels \"No\",\"Yes\": 1 1 1 1 1 1 1 1 1 1 ...\n",
      " $ day       : Factor w/ 4 levels \"Fri\",\"Sat\",\"Sun\",..: 3 3 3 3 3 3 3 3 3 3 ...\n",
      " $ time      : Factor w/ 2 levels \"Dinner\",\"Lunch\": 1 1 1 1 1 1 1 1 1 1 ...\n",
      " $ size      : int  2 3 3 2 4 4 2 4 2 2 ...\n"
     ]
    }
   ],
   "source": [
    "str(tips)"
   ]
  },
  {
   "cell_type": "markdown",
   "metadata": {},
   "source": [
    "`summary`でも概要を知ることが出来る。"
   ]
  },
  {
   "cell_type": "code",
   "execution_count": 9,
   "metadata": {},
   "outputs": [
    {
     "data": {
      "text/plain": [
       "   total_bill         tip             sex      smoker      day         time    \n",
       " Min.   : 3.07   Min.   : 1.000   Female: 87   No :151   Fri :19   Dinner:176  \n",
       " 1st Qu.:13.35   1st Qu.: 2.000   Male  :157   Yes: 93   Sat :87   Lunch : 68  \n",
       " Median :17.80   Median : 2.900                          Sun :76               \n",
       " Mean   :19.79   Mean   : 2.998                          Thur:62               \n",
       " 3rd Qu.:24.13   3rd Qu.: 3.562                                                \n",
       " Max.   :50.81   Max.   :10.000                                                \n",
       "      size     \n",
       " Min.   :1.00  \n",
       " 1st Qu.:2.00  \n",
       " Median :2.00  \n",
       " Mean   :2.57  \n",
       " 3rd Qu.:3.00  \n",
       " Max.   :6.00  "
      ]
     },
     "metadata": {},
     "output_type": "display_data"
    }
   ],
   "source": [
    "summary(tips)"
   ]
  },
  {
   "cell_type": "code",
   "execution_count": 11,
   "metadata": {},
   "outputs": [
    {
     "data": {
      "text/html": [
       "\n",
       "<table width=\"100%\" summary=\"page for Tips {reshape}\"><tr><td>Tips {reshape}</td><td style=\"text-align: right;\">R Documentation</td></tr></table>\n",
       "\n",
       "<h2>Tipping data</h2>\n",
       "\n",
       "<h3>Description</h3>\n",
       "\n",
       "<p>One waiter recorded information about each tip he received over a period of a few months working in one restaurant. He collected several variables: \n",
       "</p>\n",
       "\n",
       "<ul>\n",
       "<li><p> tip in dollars, \n",
       "</p>\n",
       "</li>\n",
       "<li><p> bill in dollars, \n",
       "</p>\n",
       "</li>\n",
       "<li><p> sex of the bill payer, \n",
       "</p>\n",
       "</li>\n",
       "<li><p> whether there were smokers in the party, \n",
       "</p>\n",
       "</li>\n",
       "<li><p> day of the week, \n",
       "</p>\n",
       "</li>\n",
       "<li><p> time of day, \n",
       "</p>\n",
       "</li>\n",
       "<li><p> size of the party. \n",
       "</p>\n",
       "</li></ul>\n",
       "\n",
       "<p>In all he recorded 244 tips. The data was reported in a collection of case studies \n",
       "for business statistics (Bryant &amp; Smith 1995).\n",
       "</p>\n",
       "\n",
       "\n",
       "<h3>Usage</h3>\n",
       "\n",
       "<pre>data(tips)</pre>\n",
       "\n",
       "\n",
       "<h3>Format</h3>\n",
       "\n",
       "<p>A data frame with 244 rows and 7 variables</p>\n",
       "\n",
       "\n",
       "<h3>References</h3>\n",
       "\n",
       "<p>Bryant, P. G. and Smith, M (1995) <em>Practical Data Analysis: Case Studies in Business Statistics</em>.  Homewood, IL: Richard D. Irwin Publishing:\n",
       "</p>\n",
       "\n",
       "<hr /><div style=\"text-align: center;\">[Package <em>reshape</em> version 0.8.8 ]</div>"
      ],
      "text/latex": [
       "\\inputencoding{utf8}\n",
       "\\HeaderA{Tips}{Tipping data}{Tips}\n",
       "\\aliasA{tips}{Tips}{tips}\n",
       "\\keyword{datasets}{Tips}\n",
       "%\n",
       "\\begin{Description}\\relax\n",
       "One waiter recorded information about each tip he received over a period of a few months working in one restaurant. He collected several variables: \n",
       "\n",
       "\\begin{itemize}\n",
       "\n",
       "\\item{} tip in dollars, \n",
       "\\item{} bill in dollars, \n",
       "\\item{} sex of the bill payer, \n",
       "\\item{} whether there were smokers in the party, \n",
       "\\item{} day of the week, \n",
       "\\item{} time of day, \n",
       "\\item{} size of the party. \n",
       "\n",
       "\\end{itemize}\n",
       "\n",
       "\n",
       "In all he recorded 244 tips. The data was reported in a collection of case studies \n",
       "for business statistics (Bryant \\& Smith 1995).\n",
       "\n",
       "\\end{Description}\n",
       "%\n",
       "\\begin{Usage}\n",
       "\\begin{verbatim}\n",
       "data(tips)\n",
       "\\end{verbatim}\n",
       "\\end{Usage}\n",
       "%\n",
       "\\begin{Format}\n",
       "A data frame with 244 rows and 7 variables\n",
       "\\end{Format}\n",
       "%\n",
       "\\begin{References}\\relax\n",
       "Bryant, P. G. and Smith, M (1995) \\emph{Practical Data Analysis: Case Studies in Business Statistics}.  Homewood, IL: Richard D. Irwin Publishing:\n",
       "\\end{References}"
      ],
      "text/plain": [
       "Tips                  package:reshape                  R Documentation\n",
       "\n",
       "_\bT_\bi_\bp_\bp_\bi_\bn_\bg _\bd_\ba_\bt_\ba\n",
       "\n",
       "_\bD_\be_\bs_\bc_\br_\bi_\bp_\bt_\bi_\bo_\bn:\n",
       "\n",
       "     One waiter recorded information about each tip he received over a\n",
       "     period of a few months working in one restaurant. He collected\n",
       "     several variables:\n",
       "\n",
       "        • tip in dollars,\n",
       "\n",
       "        • bill in dollars,\n",
       "\n",
       "        • sex of the bill payer,\n",
       "\n",
       "        • whether there were smokers in the party,\n",
       "\n",
       "        • day of the week,\n",
       "\n",
       "        • time of day,\n",
       "\n",
       "        • size of the party.\n",
       "\n",
       "     In all he recorded 244 tips. The data was reported in a collection\n",
       "     of case studies for business statistics (Bryant & Smith 1995).\n",
       "\n",
       "_\bU_\bs_\ba_\bg_\be:\n",
       "\n",
       "     data(tips)\n",
       "     \n",
       "_\bF_\bo_\br_\bm_\ba_\bt:\n",
       "\n",
       "     A data frame with 244 rows and 7 variables\n",
       "\n",
       "_\bR_\be_\bf_\be_\br_\be_\bn_\bc_\be_\bs:\n",
       "\n",
       "     Bryant, P. G. and Smith, M (1995) _Practical Data Analysis: Case\n",
       "     Studies in Business Statistics_.  Homewood, IL: Richard D. Irwin\n",
       "     Publishing:\n"
      ]
     },
     "metadata": {},
     "output_type": "display_data"
    }
   ],
   "source": [
    "?tips"
   ]
  },
  {
   "cell_type": "markdown",
   "metadata": {},
   "source": [
    "## 層別"
   ]
  },
  {
   "cell_type": "markdown",
   "metadata": {},
   "source": [
    "水準ごとに分けて集計をするのに、`group_by`を使う。\n",
    "\n",
    "次のようにすると喫煙者と非喫煙者でチップが異なるかどうかを平均値で比較できる。"
   ]
  },
  {
   "cell_type": "code",
   "execution_count": 12,
   "metadata": {},
   "outputs": [
    {
     "data": {
      "text/html": [
       "<table>\n",
       "<caption>A tibble: 2 × 2</caption>\n",
       "<thead>\n",
       "\t<tr><th scope=col>smoker</th><th scope=col>mean(tip)</th></tr>\n",
       "\t<tr><th scope=col>&lt;fct&gt;</th><th scope=col>&lt;dbl&gt;</th></tr>\n",
       "</thead>\n",
       "<tbody>\n",
       "\t<tr><td>No </td><td>2.991854</td></tr>\n",
       "\t<tr><td>Yes</td><td>3.008710</td></tr>\n",
       "</tbody>\n",
       "</table>\n"
      ],
      "text/latex": [
       "A tibble: 2 × 2\n",
       "\\begin{tabular}{ll}\n",
       " smoker & mean(tip)\\\\\n",
       " <fct> & <dbl>\\\\\n",
       "\\hline\n",
       "\t No  & 2.991854\\\\\n",
       "\t Yes & 3.008710\\\\\n",
       "\\end{tabular}\n"
      ],
      "text/markdown": [
       "\n",
       "A tibble: 2 × 2\n",
       "\n",
       "| smoker &lt;fct&gt; | mean(tip) &lt;dbl&gt; |\n",
       "|---|---|\n",
       "| No  | 2.991854 |\n",
       "| Yes | 3.008710 |\n",
       "\n"
      ],
      "text/plain": [
       "  smoker mean(tip)\n",
       "1 No     2.991854 \n",
       "2 Yes    3.008710 "
      ]
     },
     "metadata": {},
     "output_type": "display_data"
    }
   ],
   "source": [
    "tips %>% group_by(smoker) %>% summarise(mean(tip))"
   ]
  },
  {
   "cell_type": "markdown",
   "metadata": {},
   "source": [
    "チップには喫煙者かどうかで大きな差はないようだ。"
   ]
  },
  {
   "cell_type": "markdown",
   "metadata": {},
   "source": [
    "`group_by`は複数水準で使える。"
   ]
  },
  {
   "cell_type": "code",
   "execution_count": 16,
   "metadata": {},
   "outputs": [
    {
     "data": {
      "text/html": [
       "<table>\n",
       "<caption>A grouped_df: 4 × 3</caption>\n",
       "<thead>\n",
       "\t<tr><th scope=col>smoker</th><th scope=col>sex</th><th scope=col>mean(tip)</th></tr>\n",
       "\t<tr><th scope=col>&lt;fct&gt;</th><th scope=col>&lt;fct&gt;</th><th scope=col>&lt;dbl&gt;</th></tr>\n",
       "</thead>\n",
       "<tbody>\n",
       "\t<tr><td>No </td><td>Female</td><td>2.773519</td></tr>\n",
       "\t<tr><td>No </td><td>Male  </td><td>3.113402</td></tr>\n",
       "\t<tr><td>Yes</td><td>Female</td><td>2.931515</td></tr>\n",
       "\t<tr><td>Yes</td><td>Male  </td><td>3.051167</td></tr>\n",
       "</tbody>\n",
       "</table>\n"
      ],
      "text/latex": [
       "A grouped\\_df: 4 × 3\n",
       "\\begin{tabular}{lll}\n",
       " smoker & sex & mean(tip)\\\\\n",
       " <fct> & <fct> & <dbl>\\\\\n",
       "\\hline\n",
       "\t No  & Female & 2.773519\\\\\n",
       "\t No  & Male   & 3.113402\\\\\n",
       "\t Yes & Female & 2.931515\\\\\n",
       "\t Yes & Male   & 3.051167\\\\\n",
       "\\end{tabular}\n"
      ],
      "text/markdown": [
       "\n",
       "A grouped_df: 4 × 3\n",
       "\n",
       "| smoker &lt;fct&gt; | sex &lt;fct&gt; | mean(tip) &lt;dbl&gt; |\n",
       "|---|---|---|\n",
       "| No  | Female | 2.773519 |\n",
       "| No  | Male   | 3.113402 |\n",
       "| Yes | Female | 2.931515 |\n",
       "| Yes | Male   | 3.051167 |\n",
       "\n"
      ],
      "text/plain": [
       "  smoker sex    mean(tip)\n",
       "1 No     Female 2.773519 \n",
       "2 No     Male   3.113402 \n",
       "3 Yes    Female 2.931515 \n",
       "4 Yes    Male   3.051167 "
      ]
     },
     "metadata": {},
     "output_type": "display_data"
    }
   ],
   "source": [
    "tips %>% group_by(smoker, sex) %>% summarise(mean(tip))"
   ]
  },
  {
   "cell_type": "markdown",
   "metadata": {},
   "source": [
    "サンプル数の確認は`n()`"
   ]
  },
  {
   "cell_type": "code",
   "execution_count": 17,
   "metadata": {},
   "outputs": [
    {
     "data": {
      "text/html": [
       "<table>\n",
       "<caption>A grouped_df: 4 × 3</caption>\n",
       "<thead>\n",
       "\t<tr><th scope=col>smoker</th><th scope=col>sex</th><th scope=col>n()</th></tr>\n",
       "\t<tr><th scope=col>&lt;fct&gt;</th><th scope=col>&lt;fct&gt;</th><th scope=col>&lt;int&gt;</th></tr>\n",
       "</thead>\n",
       "<tbody>\n",
       "\t<tr><td>No </td><td>Female</td><td>54</td></tr>\n",
       "\t<tr><td>No </td><td>Male  </td><td>97</td></tr>\n",
       "\t<tr><td>Yes</td><td>Female</td><td>33</td></tr>\n",
       "\t<tr><td>Yes</td><td>Male  </td><td>60</td></tr>\n",
       "</tbody>\n",
       "</table>\n"
      ],
      "text/latex": [
       "A grouped\\_df: 4 × 3\n",
       "\\begin{tabular}{lll}\n",
       " smoker & sex & n()\\\\\n",
       " <fct> & <fct> & <int>\\\\\n",
       "\\hline\n",
       "\t No  & Female & 54\\\\\n",
       "\t No  & Male   & 97\\\\\n",
       "\t Yes & Female & 33\\\\\n",
       "\t Yes & Male   & 60\\\\\n",
       "\\end{tabular}\n"
      ],
      "text/markdown": [
       "\n",
       "A grouped_df: 4 × 3\n",
       "\n",
       "| smoker &lt;fct&gt; | sex &lt;fct&gt; | n() &lt;int&gt; |\n",
       "|---|---|---|\n",
       "| No  | Female | 54 |\n",
       "| No  | Male   | 97 |\n",
       "| Yes | Female | 33 |\n",
       "| Yes | Male   | 60 |\n",
       "\n"
      ],
      "text/plain": [
       "  smoker sex    n()\n",
       "1 No     Female 54 \n",
       "2 No     Male   97 \n",
       "3 Yes    Female 33 \n",
       "4 Yes    Male   60 "
      ]
     },
     "metadata": {},
     "output_type": "display_data"
    }
   ],
   "source": [
    "tips %>% group_by(smoker, sex) %>% summarise(n())"
   ]
  },
  {
   "cell_type": "code",
   "execution_count": 23,
   "metadata": {},
   "outputs": [
    {
     "data": {
      "text/html": [
       "<table>\n",
       "<caption>A tibble: 6 × 2</caption>\n",
       "<thead>\n",
       "\t<tr><th scope=col>size</th><th scope=col>max(tip)</th></tr>\n",
       "\t<tr><th scope=col>&lt;int&gt;</th><th scope=col>&lt;dbl&gt;</th></tr>\n",
       "</thead>\n",
       "<tbody>\n",
       "\t<tr><td>1</td><td> 1.92</td></tr>\n",
       "\t<tr><td>2</td><td> 5.85</td></tr>\n",
       "\t<tr><td>3</td><td>10.00</td></tr>\n",
       "\t<tr><td>4</td><td> 9.00</td></tr>\n",
       "\t<tr><td>5</td><td> 5.14</td></tr>\n",
       "\t<tr><td>6</td><td> 6.70</td></tr>\n",
       "</tbody>\n",
       "</table>\n"
      ],
      "text/latex": [
       "A tibble: 6 × 2\n",
       "\\begin{tabular}{ll}\n",
       " size & max(tip)\\\\\n",
       " <int> & <dbl>\\\\\n",
       "\\hline\n",
       "\t 1 &  1.92\\\\\n",
       "\t 2 &  5.85\\\\\n",
       "\t 3 & 10.00\\\\\n",
       "\t 4 &  9.00\\\\\n",
       "\t 5 &  5.14\\\\\n",
       "\t 6 &  6.70\\\\\n",
       "\\end{tabular}\n"
      ],
      "text/markdown": [
       "\n",
       "A tibble: 6 × 2\n",
       "\n",
       "| size &lt;int&gt; | max(tip) &lt;dbl&gt; |\n",
       "|---|---|\n",
       "| 1 |  1.92 |\n",
       "| 2 |  5.85 |\n",
       "| 3 | 10.00 |\n",
       "| 4 |  9.00 |\n",
       "| 5 |  5.14 |\n",
       "| 6 |  6.70 |\n",
       "\n"
      ],
      "text/plain": [
       "  size max(tip)\n",
       "1 1     1.92   \n",
       "2 2     5.85   \n",
       "3 3    10.00   \n",
       "4 4     9.00   \n",
       "5 5     5.14   \n",
       "6 6     6.70   "
      ]
     },
     "metadata": {},
     "output_type": "display_data"
    }
   ],
   "source": [
    "tips %>% group_by(size) %>% summarise(max(tip))"
   ]
  },
  {
   "cell_type": "markdown",
   "metadata": {},
   "source": [
    "3,4人のグループが最もチップを弾みやすい。どういう心理によるものか？"
   ]
  },
  {
   "cell_type": "markdown",
   "metadata": {},
   "source": [
    "## 列の編集"
   ]
  },
  {
   "cell_type": "code",
   "execution_count": null,
   "metadata": {},
   "outputs": [],
   "source": []
  }
 ],
 "metadata": {
  "kernelspec": {
   "display_name": "R",
   "language": "R",
   "name": "ir"
  },
  "language_info": {
   "codemirror_mode": "r",
   "file_extension": ".r",
   "mimetype": "text/x-r-source",
   "name": "R",
   "pygments_lexer": "r",
   "version": "3.6.3"
  }
 },
 "nbformat": 4,
 "nbformat_minor": 4
}
